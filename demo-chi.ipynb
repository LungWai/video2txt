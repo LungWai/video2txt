{
 "cells": [
  {
   "cell_type": "markdown",
   "metadata": {
    "tags": []
   },
   "source": [
    "## <h1> Chinese version of audio to text"
   ]
  },
  {
   "cell_type": "markdown",
   "metadata": {
    "jp-MarkdownHeadingCollapsed": true,
    "tags": []
   },
   "source": [
    "### <h2> 1. Enviroment & dependency setup"
   ]
  },
  {
   "cell_type": "code",
   "execution_count": 19,
   "metadata": {
    "scrolled": true,
    "tags": []
   },
   "outputs": [
    {
     "name": "stdout",
     "output_type": "stream",
     "text": [
      "Requirement already satisfied: funasr in /home/lwsze/miniconda3/envs/text/lib/python3.8/site-packages (0.7.1)\n",
      "Requirement already satisfied: setuptools>=38.5.1 in /home/lwsze/miniconda3/envs/text/lib/python3.8/site-packages (from funasr) (67.8.0)\n",
      "Requirement already satisfied: humanfriendly in /home/lwsze/miniconda3/envs/text/lib/python3.8/site-packages (from funasr) (10.0)\n",
      "Requirement already satisfied: scipy>=1.4.1 in /home/lwsze/miniconda3/envs/text/lib/python3.8/site-packages (from funasr) (1.10.1)\n",
      "Requirement already satisfied: librosa in /home/lwsze/miniconda3/envs/text/lib/python3.8/site-packages (from funasr) (0.10.0)\n",
      "Requirement already satisfied: jamo in /home/lwsze/miniconda3/envs/text/lib/python3.8/site-packages (from funasr) (0.4.1)\n",
      "Requirement already satisfied: PyYAML>=5.1.2 in /home/lwsze/miniconda3/envs/text/lib/python3.8/site-packages (from funasr) (6.0)\n",
      "Requirement already satisfied: soundfile>=0.12.1 in /home/lwsze/miniconda3/envs/text/lib/python3.8/site-packages (from funasr) (0.12.1)\n",
      "Requirement already satisfied: h5py>=2.10.0 in /home/lwsze/miniconda3/envs/text/lib/python3.8/site-packages (from funasr) (3.9.0)\n",
      "Requirement already satisfied: kaldiio>=2.17.0 in /home/lwsze/miniconda3/envs/text/lib/python3.8/site-packages (from funasr) (2.18.0)\n",
      "Requirement already satisfied: torch-complex in /home/lwsze/miniconda3/envs/text/lib/python3.8/site-packages (from funasr) (0.4.3)\n",
      "Requirement already satisfied: nltk>=3.4.5 in /home/lwsze/miniconda3/envs/text/lib/python3.8/site-packages (from funasr) (3.8.1)\n",
      "Requirement already satisfied: sentencepiece in /home/lwsze/miniconda3/envs/text/lib/python3.8/site-packages (from funasr) (0.1.99)\n",
      "Requirement already satisfied: jieba in /home/lwsze/miniconda3/envs/text/lib/python3.8/site-packages (from funasr) (0.42.1)\n",
      "Requirement already satisfied: pypinyin>=0.44.0 in /home/lwsze/miniconda3/envs/text/lib/python3.8/site-packages (from funasr) (0.49.0)\n",
      "Requirement already satisfied: espnet-tts-frontend in /home/lwsze/miniconda3/envs/text/lib/python3.8/site-packages (from funasr) (0.0.3)\n",
      "Requirement already satisfied: pytorch-wpe in /home/lwsze/miniconda3/envs/text/lib/python3.8/site-packages (from funasr) (0.0.1)\n",
      "Requirement already satisfied: editdistance>=0.5.2 in /home/lwsze/miniconda3/envs/text/lib/python3.8/site-packages (from funasr) (0.6.2)\n",
      "Requirement already satisfied: tensorboard in /home/lwsze/miniconda3/envs/text/lib/python3.8/site-packages (from funasr) (2.13.0)\n",
      "Requirement already satisfied: g2p in /home/lwsze/miniconda3/envs/text/lib/python3.8/site-packages (from funasr) (1.1.20230511)\n",
      "Requirement already satisfied: oss2 in /home/lwsze/miniconda3/envs/text/lib/python3.8/site-packages (from funasr) (2.18.1)\n",
      "Requirement already satisfied: edit-distance in /home/lwsze/miniconda3/envs/text/lib/python3.8/site-packages (from funasr) (1.0.6)\n",
      "Requirement already satisfied: textgrid in /home/lwsze/miniconda3/envs/text/lib/python3.8/site-packages (from funasr) (1.5)\n",
      "Requirement already satisfied: protobuf in /home/lwsze/miniconda3/envs/text/lib/python3.8/site-packages (from funasr) (4.23.4)\n",
      "Requirement already satisfied: numpy>=1.17.3 in /home/lwsze/miniconda3/envs/text/lib/python3.8/site-packages (from h5py>=2.10.0->funasr) (1.22.0)\n",
      "Requirement already satisfied: click in /home/lwsze/miniconda3/envs/text/lib/python3.8/site-packages (from nltk>=3.4.5->funasr) (8.0.4)\n",
      "Requirement already satisfied: joblib in /home/lwsze/miniconda3/envs/text/lib/python3.8/site-packages (from nltk>=3.4.5->funasr) (1.2.0)\n",
      "Requirement already satisfied: regex>=2021.8.3 in /home/lwsze/miniconda3/envs/text/lib/python3.8/site-packages (from nltk>=3.4.5->funasr) (2023.6.3)\n",
      "Requirement already satisfied: tqdm in /home/lwsze/miniconda3/envs/text/lib/python3.8/site-packages (from nltk>=3.4.5->funasr) (4.65.0)\n",
      "Requirement already satisfied: cffi>=1.0 in /home/lwsze/miniconda3/envs/text/lib/python3.8/site-packages (from soundfile>=0.12.1->funasr) (1.15.1)\n",
      "Requirement already satisfied: unidecode>=1.0.22 in /home/lwsze/miniconda3/envs/text/lib/python3.8/site-packages (from espnet-tts-frontend->funasr) (1.3.6)\n",
      "Requirement already satisfied: inflect>=1.0.0 in /home/lwsze/miniconda3/envs/text/lib/python3.8/site-packages (from espnet-tts-frontend->funasr) (7.0.0)\n",
      "Requirement already satisfied: jaconv in /home/lwsze/miniconda3/envs/text/lib/python3.8/site-packages (from espnet-tts-frontend->funasr) (0.3.4)\n",
      "Requirement already satisfied: g2p-en in /home/lwsze/miniconda3/envs/text/lib/python3.8/site-packages (from espnet-tts-frontend->funasr) (2.1.0)\n",
      "Requirement already satisfied: openpyxl in /home/lwsze/miniconda3/envs/text/lib/python3.8/site-packages (from g2p->funasr) (3.1.2)\n",
      "Requirement already satisfied: coloredlogs<=14.0 in /home/lwsze/miniconda3/envs/text/lib/python3.8/site-packages (from g2p->funasr) (14.0)\n",
      "Requirement already satisfied: dnspython>=2.1.0 in /home/lwsze/miniconda3/envs/text/lib/python3.8/site-packages (from g2p->funasr) (2.4.0)\n",
      "Requirement already satisfied: eventlet>=0.33.0 in /home/lwsze/miniconda3/envs/text/lib/python3.8/site-packages (from g2p->funasr) (0.33.3)\n",
      "Requirement already satisfied: flask-cors>=3.0.9 in /home/lwsze/miniconda3/envs/text/lib/python3.8/site-packages (from g2p->funasr) (4.0.0)\n",
      "Requirement already satisfied: Flask<=2.1.3,>=2.0.0 in /home/lwsze/miniconda3/envs/text/lib/python3.8/site-packages (from g2p->funasr) (2.1.3)\n",
      "Requirement already satisfied: flask-socketio==4.3.2 in /home/lwsze/miniconda3/envs/text/lib/python3.8/site-packages (from g2p->funasr) (4.3.2)\n",
      "Requirement already satisfied: flask-talisman>=0.7.0 in /home/lwsze/miniconda3/envs/text/lib/python3.8/site-packages (from g2p->funasr) (1.0.0)\n",
      "Requirement already satisfied: flask-restful>=0.3.9 in /home/lwsze/miniconda3/envs/text/lib/python3.8/site-packages (from g2p->funasr) (0.3.10)\n",
      "Requirement already satisfied: networkx<=2.8.4,>=2.5 in /home/lwsze/miniconda3/envs/text/lib/python3.8/site-packages (from g2p->funasr) (2.8.4)\n",
      "Requirement already satisfied: panphon>=0.19 in /home/lwsze/miniconda3/envs/text/lib/python3.8/site-packages (from g2p->funasr) (0.20.0)\n",
      "Requirement already satisfied: python-engineio==3.14.2 in /home/lwsze/miniconda3/envs/text/lib/python3.8/site-packages (from g2p->funasr) (3.14.2)\n",
      "Requirement already satisfied: python-socketio==4.6.1 in /home/lwsze/miniconda3/envs/text/lib/python3.8/site-packages (from g2p->funasr) (4.6.1)\n",
      "Requirement already satisfied: requests in /home/lwsze/miniconda3/envs/text/lib/python3.8/site-packages (from g2p->funasr) (2.29.0)\n",
      "Requirement already satisfied: text-unidecode in /home/lwsze/miniconda3/envs/text/lib/python3.8/site-packages (from g2p->funasr) (1.3)\n",
      "Requirement already satisfied: werkzeug==2.0.3 in /home/lwsze/miniconda3/envs/text/lib/python3.8/site-packages (from g2p->funasr) (2.0.3)\n",
      "Requirement already satisfied: six>=1.9.0 in /home/lwsze/miniconda3/envs/text/lib/python3.8/site-packages (from python-engineio==3.14.2->g2p->funasr) (1.12.0)\n",
      "Requirement already satisfied: audioread>=2.1.9 in /home/lwsze/miniconda3/envs/text/lib/python3.8/site-packages (from librosa->funasr) (3.0.0)\n",
      "Requirement already satisfied: scikit-learn>=0.20.0 in /home/lwsze/miniconda3/envs/text/lib/python3.8/site-packages (from librosa->funasr) (1.3.0)\n",
      "Requirement already satisfied: decorator>=4.3.0 in /home/lwsze/miniconda3/envs/text/lib/python3.8/site-packages (from librosa->funasr) (4.4.2)\n",
      "Requirement already satisfied: numba>=0.51.0 in /home/lwsze/miniconda3/envs/text/lib/python3.8/site-packages (from librosa->funasr) (0.57.1)\n",
      "Requirement already satisfied: pooch>=1.0 in /home/lwsze/miniconda3/envs/text/lib/python3.8/site-packages (from librosa->funasr) (1.6.0)\n",
      "Requirement already satisfied: soxr>=0.3.2 in /home/lwsze/miniconda3/envs/text/lib/python3.8/site-packages (from librosa->funasr) (0.3.5)\n",
      "Requirement already satisfied: typing-extensions>=4.1.1 in /home/lwsze/miniconda3/envs/text/lib/python3.8/site-packages (from librosa->funasr) (4.6.3)\n",
      "Requirement already satisfied: lazy-loader>=0.1 in /home/lwsze/miniconda3/envs/text/lib/python3.8/site-packages (from librosa->funasr) (0.3)\n",
      "Requirement already satisfied: msgpack>=1.0 in /home/lwsze/miniconda3/envs/text/lib/python3.8/site-packages (from librosa->funasr) (1.0.5)\n",
      "Requirement already satisfied: crcmod>=1.7 in /home/lwsze/miniconda3/envs/text/lib/python3.8/site-packages (from oss2->funasr) (1.7)\n",
      "Requirement already satisfied: pycryptodome>=3.4.7 in /home/lwsze/miniconda3/envs/text/lib/python3.8/site-packages (from oss2->funasr) (3.18.0)\n",
      "Requirement already satisfied: aliyun-python-sdk-kms>=2.4.1 in /home/lwsze/miniconda3/envs/text/lib/python3.8/site-packages (from oss2->funasr) (2.16.1)\n",
      "Requirement already satisfied: aliyun-python-sdk-core>=2.13.12 in /home/lwsze/miniconda3/envs/text/lib/python3.8/site-packages (from oss2->funasr) (2.13.36)\n",
      "Requirement already satisfied: absl-py>=0.4 in /home/lwsze/miniconda3/envs/text/lib/python3.8/site-packages (from tensorboard->funasr) (1.4.0)\n",
      "Requirement already satisfied: grpcio>=1.48.2 in /home/lwsze/miniconda3/envs/text/lib/python3.8/site-packages (from tensorboard->funasr) (1.56.2)\n",
      "Requirement already satisfied: google-auth<3,>=1.6.3 in /home/lwsze/miniconda3/envs/text/lib/python3.8/site-packages (from tensorboard->funasr) (2.22.0)\n",
      "Requirement already satisfied: google-auth-oauthlib<1.1,>=0.5 in /home/lwsze/miniconda3/envs/text/lib/python3.8/site-packages (from tensorboard->funasr) (1.0.0)\n",
      "Requirement already satisfied: markdown>=2.6.8 in /home/lwsze/miniconda3/envs/text/lib/python3.8/site-packages (from tensorboard->funasr) (3.4.3)\n",
      "Requirement already satisfied: tensorboard-data-server<0.8.0,>=0.7.0 in /home/lwsze/miniconda3/envs/text/lib/python3.8/site-packages (from tensorboard->funasr) (0.7.1)\n",
      "Requirement already satisfied: wheel>=0.26 in /home/lwsze/miniconda3/envs/text/lib/python3.8/site-packages (from tensorboard->funasr) (0.38.4)\n",
      "Requirement already satisfied: jmespath<1.0.0,>=0.9.3 in /home/lwsze/miniconda3/envs/text/lib/python3.8/site-packages (from aliyun-python-sdk-core>=2.13.12->oss2->funasr) (0.10.0)\n",
      "Requirement already satisfied: cryptography>=2.6.0 in /home/lwsze/miniconda3/envs/text/lib/python3.8/site-packages (from aliyun-python-sdk-core>=2.13.12->oss2->funasr) (39.0.1)\n",
      "Requirement already satisfied: pycparser in /home/lwsze/miniconda3/envs/text/lib/python3.8/site-packages (from cffi>=1.0->soundfile>=0.12.1->funasr) (2.21)\n",
      "Requirement already satisfied: httpcore>=0.17.3 in /home/lwsze/miniconda3/envs/text/lib/python3.8/site-packages (from dnspython>=2.1.0->g2p->funasr) (0.17.3)\n",
      "Requirement already satisfied: sniffio<2.0,>=1.1 in /home/lwsze/miniconda3/envs/text/lib/python3.8/site-packages (from dnspython>=2.1.0->g2p->funasr) (1.2.0)\n",
      "Requirement already satisfied: greenlet>=0.3 in /home/lwsze/miniconda3/envs/text/lib/python3.8/site-packages (from eventlet>=0.33.0->g2p->funasr) (2.0.2)\n",
      "Requirement already satisfied: Jinja2>=3.0 in /home/lwsze/miniconda3/envs/text/lib/python3.8/site-packages (from Flask<=2.1.3,>=2.0.0->g2p->funasr) (3.1.2)\n",
      "Requirement already satisfied: itsdangerous>=2.0 in /home/lwsze/miniconda3/envs/text/lib/python3.8/site-packages (from Flask<=2.1.3,>=2.0.0->g2p->funasr) (2.1.2)\n",
      "Requirement already satisfied: importlib-metadata>=3.6.0 in /home/lwsze/miniconda3/envs/text/lib/python3.8/site-packages (from Flask<=2.1.3,>=2.0.0->g2p->funasr) (6.8.0)\n",
      "Requirement already satisfied: aniso8601>=0.82 in /home/lwsze/miniconda3/envs/text/lib/python3.8/site-packages (from flask-restful>=0.3.9->g2p->funasr) (9.0.1)\n",
      "Requirement already satisfied: pytz in /home/lwsze/miniconda3/envs/text/lib/python3.8/site-packages (from flask-restful>=0.3.9->g2p->funasr) (2022.7)\n",
      "Requirement already satisfied: cachetools<6.0,>=2.0.0 in /home/lwsze/miniconda3/envs/text/lib/python3.8/site-packages (from google-auth<3,>=1.6.3->tensorboard->funasr) (5.3.1)\n",
      "Requirement already satisfied: pyasn1-modules>=0.2.1 in /home/lwsze/miniconda3/envs/text/lib/python3.8/site-packages (from google-auth<3,>=1.6.3->tensorboard->funasr) (0.3.0)\n",
      "Requirement already satisfied: rsa<5,>=3.1.4 in /home/lwsze/miniconda3/envs/text/lib/python3.8/site-packages (from google-auth<3,>=1.6.3->tensorboard->funasr) (4.9)\n",
      "Requirement already satisfied: urllib3<2.0 in /home/lwsze/miniconda3/envs/text/lib/python3.8/site-packages (from google-auth<3,>=1.6.3->tensorboard->funasr) (1.26.16)\n",
      "Requirement already satisfied: requests-oauthlib>=0.7.0 in /home/lwsze/miniconda3/envs/text/lib/python3.8/site-packages (from google-auth-oauthlib<1.1,>=0.5->tensorboard->funasr) (1.3.1)\n",
      "Requirement already satisfied: pydantic>=1.9.1 in /home/lwsze/miniconda3/envs/text/lib/python3.8/site-packages (from inflect>=1.0.0->espnet-tts-frontend->funasr) (2.0.3)\n",
      "Requirement already satisfied: llvmlite<0.41,>=0.40.0dev0 in /home/lwsze/miniconda3/envs/text/lib/python3.8/site-packages (from numba>=0.51.0->librosa->funasr) (0.40.1)\n",
      "Requirement already satisfied: unicodecsv in /home/lwsze/miniconda3/envs/text/lib/python3.8/site-packages (from panphon>=0.19->g2p->funasr) (0.14.1)\n",
      "Requirement already satisfied: munkres in /home/lwsze/miniconda3/envs/text/lib/python3.8/site-packages (from panphon>=0.19->g2p->funasr) (1.1.4)\n",
      "Requirement already satisfied: appdirs>=1.3.0 in /home/lwsze/miniconda3/envs/text/lib/python3.8/site-packages (from pooch>=1.0->librosa->funasr) (1.4.4)\n",
      "Requirement already satisfied: packaging>=20.0 in /home/lwsze/miniconda3/envs/text/lib/python3.8/site-packages (from pooch>=1.0->librosa->funasr) (23.0)\n",
      "Requirement already satisfied: charset-normalizer<4,>=2 in /home/lwsze/miniconda3/envs/text/lib/python3.8/site-packages (from requests->g2p->funasr) (2.0.4)\n",
      "Requirement already satisfied: idna<4,>=2.5 in /home/lwsze/miniconda3/envs/text/lib/python3.8/site-packages (from requests->g2p->funasr) (3.4)\n",
      "Requirement already satisfied: certifi>=2017.4.17 in /home/lwsze/miniconda3/envs/text/lib/python3.8/site-packages (from requests->g2p->funasr) (2023.5.7)\n",
      "Requirement already satisfied: threadpoolctl>=2.0.0 in /home/lwsze/miniconda3/envs/text/lib/python3.8/site-packages (from scikit-learn>=0.20.0->librosa->funasr) (3.2.0)\n",
      "Requirement already satisfied: distance>=0.1.3 in /home/lwsze/miniconda3/envs/text/lib/python3.8/site-packages (from g2p-en->espnet-tts-frontend->funasr) (0.1.3)\n",
      "Requirement already satisfied: et-xmlfile in /home/lwsze/miniconda3/envs/text/lib/python3.8/site-packages (from openpyxl->g2p->funasr) (1.1.0)\n",
      "Requirement already satisfied: h11<0.15,>=0.13 in /home/lwsze/miniconda3/envs/text/lib/python3.8/site-packages (from httpcore>=0.17.3->dnspython>=2.1.0->g2p->funasr) (0.14.0)\n",
      "Requirement already satisfied: anyio<5.0,>=3.0 in /home/lwsze/miniconda3/envs/text/lib/python3.8/site-packages (from httpcore>=0.17.3->dnspython>=2.1.0->g2p->funasr) (3.5.0)\n",
      "Requirement already satisfied: zipp>=0.5 in /home/lwsze/miniconda3/envs/text/lib/python3.8/site-packages (from importlib-metadata>=3.6.0->Flask<=2.1.3,>=2.0.0->g2p->funasr) (3.11.0)\n",
      "Requirement already satisfied: MarkupSafe>=2.0 in /home/lwsze/miniconda3/envs/text/lib/python3.8/site-packages (from Jinja2>=3.0->Flask<=2.1.3,>=2.0.0->g2p->funasr) (2.1.1)\n",
      "Requirement already satisfied: pyasn1<0.6.0,>=0.4.6 in /home/lwsze/miniconda3/envs/text/lib/python3.8/site-packages (from pyasn1-modules>=0.2.1->google-auth<3,>=1.6.3->tensorboard->funasr) (0.5.0)\n",
      "Requirement already satisfied: annotated-types>=0.4.0 in /home/lwsze/miniconda3/envs/text/lib/python3.8/site-packages (from pydantic>=1.9.1->inflect>=1.0.0->espnet-tts-frontend->funasr) (0.5.0)\n",
      "Requirement already satisfied: pydantic-core==2.3.0 in /home/lwsze/miniconda3/envs/text/lib/python3.8/site-packages (from pydantic>=1.9.1->inflect>=1.0.0->espnet-tts-frontend->funasr) (2.3.0)\n",
      "Requirement already satisfied: oauthlib>=3.0.0 in /home/lwsze/miniconda3/envs/text/lib/python3.8/site-packages (from requests-oauthlib>=0.7.0->google-auth-oauthlib<1.1,>=0.5->tensorboard->funasr) (3.2.2)\n"
     ]
    }
   ],
   "source": [
    "!pip3 install -U funasr"
   ]
  },
  {
   "cell_type": "code",
   "execution_count": 20,
   "metadata": {
    "scrolled": true,
    "tags": []
   },
   "outputs": [
    {
     "name": "stdout",
     "output_type": "stream",
     "text": [
      "Requirement already satisfied: modelscope in /home/lwsze/miniconda3/envs/text/lib/python3.8/site-packages (1.7.1)\n",
      "Requirement already satisfied: addict in /home/lwsze/miniconda3/envs/text/lib/python3.8/site-packages (from modelscope) (2.4.0)\n",
      "Requirement already satisfied: attrs in /home/lwsze/miniconda3/envs/text/lib/python3.8/site-packages (from modelscope) (22.1.0)\n",
      "Requirement already satisfied: datasets in /home/lwsze/miniconda3/envs/text/lib/python3.8/site-packages (from modelscope) (2.13.1)\n",
      "Requirement already satisfied: einops in /home/lwsze/miniconda3/envs/text/lib/python3.8/site-packages (from modelscope) (0.6.1)\n",
      "Requirement already satisfied: filelock>=3.3.0 in /home/lwsze/miniconda3/envs/text/lib/python3.8/site-packages (from modelscope) (3.12.2)\n",
      "Requirement already satisfied: gast>=0.2.2 in /home/lwsze/miniconda3/envs/text/lib/python3.8/site-packages (from modelscope) (0.5.4)\n",
      "Requirement already satisfied: numpy<=1.22.0 in /home/lwsze/miniconda3/envs/text/lib/python3.8/site-packages (from modelscope) (1.22.0)\n",
      "Requirement already satisfied: oss2 in /home/lwsze/miniconda3/envs/text/lib/python3.8/site-packages (from modelscope) (2.18.1)\n",
      "Requirement already satisfied: pandas<1.4.0 in /home/lwsze/miniconda3/envs/text/lib/python3.8/site-packages (from modelscope) (1.3.5)\n",
      "Requirement already satisfied: Pillow>=6.2.0 in /home/lwsze/miniconda3/envs/text/lib/python3.8/site-packages (from modelscope) (9.5.0)\n",
      "Requirement already satisfied: pyarrow!=9.0.0,>=6.0.0 in /home/lwsze/miniconda3/envs/text/lib/python3.8/site-packages (from modelscope) (12.0.1)\n",
      "Requirement already satisfied: python-dateutil>=2.1 in /home/lwsze/miniconda3/envs/text/lib/python3.8/site-packages (from modelscope) (2.8.2)\n",
      "Requirement already satisfied: pyyaml in /home/lwsze/miniconda3/envs/text/lib/python3.8/site-packages (from modelscope) (6.0)\n",
      "Requirement already satisfied: requests>=2.25 in /home/lwsze/miniconda3/envs/text/lib/python3.8/site-packages (from modelscope) (2.29.0)\n",
      "Requirement already satisfied: scipy in /home/lwsze/miniconda3/envs/text/lib/python3.8/site-packages (from modelscope) (1.10.1)\n",
      "Requirement already satisfied: setuptools in /home/lwsze/miniconda3/envs/text/lib/python3.8/site-packages (from modelscope) (67.8.0)\n",
      "Requirement already satisfied: simplejson>=3.3.0 in /home/lwsze/miniconda3/envs/text/lib/python3.8/site-packages (from modelscope) (3.19.1)\n",
      "Requirement already satisfied: sortedcontainers>=1.5.9 in /home/lwsze/miniconda3/envs/text/lib/python3.8/site-packages (from modelscope) (2.4.0)\n",
      "Requirement already satisfied: tqdm>=4.64.0 in /home/lwsze/miniconda3/envs/text/lib/python3.8/site-packages (from modelscope) (4.65.0)\n",
      "Requirement already satisfied: urllib3>=1.26 in /home/lwsze/miniconda3/envs/text/lib/python3.8/site-packages (from modelscope) (1.26.16)\n",
      "Requirement already satisfied: yapf in /home/lwsze/miniconda3/envs/text/lib/python3.8/site-packages (from modelscope) (0.40.1)\n",
      "Requirement already satisfied: pytz>=2017.3 in /home/lwsze/miniconda3/envs/text/lib/python3.8/site-packages (from pandas<1.4.0->modelscope) (2022.7)\n",
      "Requirement already satisfied: six>=1.5 in /home/lwsze/miniconda3/envs/text/lib/python3.8/site-packages (from python-dateutil>=2.1->modelscope) (1.12.0)\n",
      "Requirement already satisfied: charset-normalizer<4,>=2 in /home/lwsze/miniconda3/envs/text/lib/python3.8/site-packages (from requests>=2.25->modelscope) (2.0.4)\n",
      "Requirement already satisfied: idna<4,>=2.5 in /home/lwsze/miniconda3/envs/text/lib/python3.8/site-packages (from requests>=2.25->modelscope) (3.4)\n",
      "Requirement already satisfied: certifi>=2017.4.17 in /home/lwsze/miniconda3/envs/text/lib/python3.8/site-packages (from requests>=2.25->modelscope) (2023.5.7)\n",
      "Requirement already satisfied: dill<0.3.7,>=0.3.0 in /home/lwsze/miniconda3/envs/text/lib/python3.8/site-packages (from datasets->modelscope) (0.3.6)\n",
      "Requirement already satisfied: xxhash in /home/lwsze/miniconda3/envs/text/lib/python3.8/site-packages (from datasets->modelscope) (3.2.0)\n",
      "Requirement already satisfied: multiprocess in /home/lwsze/miniconda3/envs/text/lib/python3.8/site-packages (from datasets->modelscope) (0.70.14)\n",
      "Requirement already satisfied: fsspec[http]>=2021.11.1 in /home/lwsze/miniconda3/envs/text/lib/python3.8/site-packages (from datasets->modelscope) (2023.6.0)\n",
      "Requirement already satisfied: aiohttp in /home/lwsze/miniconda3/envs/text/lib/python3.8/site-packages (from datasets->modelscope) (3.8.5)\n",
      "Requirement already satisfied: huggingface-hub<1.0.0,>=0.11.0 in /home/lwsze/miniconda3/envs/text/lib/python3.8/site-packages (from datasets->modelscope) (0.15.1)\n",
      "Requirement already satisfied: packaging in /home/lwsze/miniconda3/envs/text/lib/python3.8/site-packages (from datasets->modelscope) (23.0)\n",
      "Requirement already satisfied: crcmod>=1.7 in /home/lwsze/miniconda3/envs/text/lib/python3.8/site-packages (from oss2->modelscope) (1.7)\n",
      "Requirement already satisfied: pycryptodome>=3.4.7 in /home/lwsze/miniconda3/envs/text/lib/python3.8/site-packages (from oss2->modelscope) (3.18.0)\n",
      "Requirement already satisfied: aliyun-python-sdk-kms>=2.4.1 in /home/lwsze/miniconda3/envs/text/lib/python3.8/site-packages (from oss2->modelscope) (2.16.1)\n",
      "Requirement already satisfied: aliyun-python-sdk-core>=2.13.12 in /home/lwsze/miniconda3/envs/text/lib/python3.8/site-packages (from oss2->modelscope) (2.13.36)\n",
      "Requirement already satisfied: importlib-metadata>=6.6.0 in /home/lwsze/miniconda3/envs/text/lib/python3.8/site-packages (from yapf->modelscope) (6.8.0)\n",
      "Requirement already satisfied: platformdirs>=3.5.1 in /home/lwsze/miniconda3/envs/text/lib/python3.8/site-packages (from yapf->modelscope) (3.9.1)\n",
      "Requirement already satisfied: tomli>=2.0.1 in /home/lwsze/miniconda3/envs/text/lib/python3.8/site-packages (from yapf->modelscope) (2.0.1)\n",
      "Requirement already satisfied: jmespath<1.0.0,>=0.9.3 in /home/lwsze/miniconda3/envs/text/lib/python3.8/site-packages (from aliyun-python-sdk-core>=2.13.12->oss2->modelscope) (0.10.0)\n",
      "Requirement already satisfied: cryptography>=2.6.0 in /home/lwsze/miniconda3/envs/text/lib/python3.8/site-packages (from aliyun-python-sdk-core>=2.13.12->oss2->modelscope) (39.0.1)\n",
      "Requirement already satisfied: multidict<7.0,>=4.5 in /home/lwsze/miniconda3/envs/text/lib/python3.8/site-packages (from aiohttp->datasets->modelscope) (6.0.4)\n",
      "Requirement already satisfied: async-timeout<5.0,>=4.0.0a3 in /home/lwsze/miniconda3/envs/text/lib/python3.8/site-packages (from aiohttp->datasets->modelscope) (4.0.2)\n",
      "Requirement already satisfied: yarl<2.0,>=1.0 in /home/lwsze/miniconda3/envs/text/lib/python3.8/site-packages (from aiohttp->datasets->modelscope) (1.9.2)\n",
      "Requirement already satisfied: frozenlist>=1.1.1 in /home/lwsze/miniconda3/envs/text/lib/python3.8/site-packages (from aiohttp->datasets->modelscope) (1.4.0)\n",
      "Requirement already satisfied: aiosignal>=1.1.2 in /home/lwsze/miniconda3/envs/text/lib/python3.8/site-packages (from aiohttp->datasets->modelscope) (1.3.1)\n",
      "Requirement already satisfied: typing-extensions>=3.7.4.3 in /home/lwsze/miniconda3/envs/text/lib/python3.8/site-packages (from huggingface-hub<1.0.0,>=0.11.0->datasets->modelscope) (4.6.3)\n",
      "Requirement already satisfied: zipp>=0.5 in /home/lwsze/miniconda3/envs/text/lib/python3.8/site-packages (from importlib-metadata>=6.6.0->yapf->modelscope) (3.11.0)\n",
      "Requirement already satisfied: cffi>=1.12 in /home/lwsze/miniconda3/envs/text/lib/python3.8/site-packages (from cryptography>=2.6.0->aliyun-python-sdk-core>=2.13.12->oss2->modelscope) (1.15.1)\n",
      "Requirement already satisfied: pycparser in /home/lwsze/miniconda3/envs/text/lib/python3.8/site-packages (from cffi>=1.12->cryptography>=2.6.0->aliyun-python-sdk-core>=2.13.12->oss2->modelscope) (2.21)\n"
     ]
    }
   ],
   "source": [
    "\n",
    "!pip3 install modelscope"
   ]
  },
  {
   "cell_type": "markdown",
   "metadata": {
    "tags": []
   },
   "source": [
    "### <h2> 2. function definition"
   ]
  },
  {
   "cell_type": "code",
   "execution_count": 1,
   "metadata": {
    "tags": []
   },
   "outputs": [
    {
     "name": "stderr",
     "output_type": "stream",
     "text": [
      "/home/lwsze/miniconda3/envs/text/lib/python3.8/site-packages/tqdm/auto.py:21: TqdmWarning: IProgress not found. Please update jupyter and ipywidgets. See https://ipywidgets.readthedocs.io/en/stable/user_install.html\n",
      "  from .autonotebook import tqdm as notebook_tqdm\n",
      "2023-09-20 22:49:07,924 - modelscope - INFO - PyTorch version 1.13.1+cu116 Found.\n",
      "2023-09-20 22:49:07,924 - modelscope - INFO - Loading ast index from /home/lwsze/.cache/modelscope/ast_indexer\n",
      "2023-09-20 22:49:08,068 - modelscope - INFO - Loading done! Current index file version is 1.7.1, with md5 166028151a1a39c52457a15775a869d4 and a total number of 861 components indexed\n"
     ]
    }
   ],
   "source": [
    "# function block\n",
    "import os\n",
    "import librosa\n",
    "import torch\n",
    "import numpy as np\n",
    "from docx import Document\n",
    "from modelscope.pipelines import pipeline\n",
    "from modelscope.utils.constant import Tasks\n",
    "from IPython.display import clear_output\n",
    "\n",
    "\n",
    "\n",
    "def convert_video_to_text(input_file, output_file, output_format, time_flag):\n",
    "    # Load the speech-to-text model\n",
    "    device = torch.device(\"cuda\" if torch.cuda.is_available() else \"cpu\")\n",
    "    torch.cuda.empty_cache()\n",
    "    pipe = pipeline(\n",
    "        task=Tasks.auto_speech_recognition,\n",
    "        model='damo/speech_paraformer-large-vad-punc_asr_nat-zh-cn-16k-common-vocab8404-pytorch',\n",
    "        model_revision=\"v1.2.4\")\n",
    "    # Convert video to audio\n",
    "    audio_file = convert_video_to_audio(input_file)\n",
    "        \n",
    "    with open(output_file, \"a\") as f:\n",
    "        f.write(f\"{input_file}:\\n\")\n",
    "    for i in audio_file:\n",
    "        transcription = transcribe_audio_to_text(i, pipe)\n",
    "        save_transcription_to_text(i, transcription, output_file,time_flag)\n",
    "    os.system(f'rm -rf {input_file}/*.wav')\n",
    "    print(f\"{input_file} completed\")\n",
    "                            \n",
    "def convert_video_to_audio(input_file):\n",
    "    \n",
    "    if input_file.endswith(\".wav\"):\n",
    "        duration = librosa.get_duration(filename=input_file)\n",
    "        split_files = []\n",
    "        for i in range(0, int(duration), 100):\n",
    "            split_file = f\"split_{i}.wav\"\n",
    "            os.system(f\"ffmpeg -i {input_file} -ss {i} -t 100 {split_file}\")\n",
    "            split_files.append(split_file)\n",
    "        os.remove(input_file)\n",
    "    else:\n",
    "    \n",
    "        # Convert video to audio using ffmpeg\n",
    "        audio_file = \"temp.wav\"\n",
    "        os.system(f\"ffmpeg -i {input_file} -vn -acodec pcm_s16le -ar 16000 -ac 1 {audio_file}\")\n",
    "\n",
    "        # Split audio into 5 minute segments\n",
    "        duration = librosa.get_duration(filename=audio_file)\n",
    "        split_files = []\n",
    "        for i in range(0, int(duration), 100):\n",
    "            split_file = f\"split_{i}.wav\"\n",
    "            os.system(f\"ffmpeg -i {audio_file} -ss {i} -t 100 {split_file}\")\n",
    "            split_files.append(split_file)\n",
    "        os.remove(\"temp.wav\")\n",
    "        os.remove(input_file)\n",
    "    \n",
    "    return tuple(split_files)\n",
    "\n",
    "\n",
    "def transcribe_audio_to_text(audio_file, pipeline):\n",
    "    # Load audio file\n",
    "    audio_input, _ = librosa.load(audio_file, sr=16000)\n",
    "\n",
    "    # Transcribe audio to text\n",
    "    torch.cuda.empty_cache()\n",
    "    transcription = pipeline(audio_input)\n",
    "    return transcription\n",
    "\n",
    "def save_transcription_to_text(i, transcription, output_file, time_flag):\n",
    "    # Save transcription to text file\n",
    "    tmp, _ = i.split(\".\")\n",
    "    _, time = tmp.split(\"_\")\n",
    "    with open(output_file, \"a\") as file:\n",
    "        if transcription:\n",
    "            if not time_flag:\n",
    "                content = transcription[\"text\"]\n",
    "                file.write(f\"{content}\\n\")\n",
    "            else: \n",
    "                content = transcription[\"text\"]\n",
    "                file.write(f\"Time: {time}s  Content: {content}\\n\")\n",
    "    os.system(f'rm -rf {i}')\n",
    "\n"
   ]
  },
  {
   "cell_type": "markdown",
   "metadata": {
    "tags": []
   },
   "source": [
    "### <h2> 3. folder run"
   ]
  },
  {
   "cell_type": "code",
   "execution_count": 2,
   "metadata": {
    "tags": []
   },
   "outputs": [],
   "source": [
    "# Control block for single folder\n",
    "\n",
    "# Input file folder\n",
    "input_folder = \"input\"\n",
    "\n",
    "# Output file folder\n",
    "output_folder = \"output\"\n",
    "\n",
    "# Choose output format\n",
    "output_format = \"text\" \n",
    "\n",
    "# Choose whether output timestamp\n",
    "time_flag = True"
   ]
  },
  {
   "cell_type": "code",
   "execution_count": 3,
   "metadata": {
    "tags": []
   },
   "outputs": [
    {
     "name": "stdout",
     "output_type": "stream",
     "text": [
      "/home/lwsze/projects/video-2-text\n"
     ]
    }
   ],
   "source": [
    "\n",
    "# Print the current working directory\n",
    "print(os.getcwd())"
   ]
  },
  {
   "cell_type": "code",
   "execution_count": 4,
   "metadata": {
    "scrolled": true,
    "tags": []
   },
   "outputs": [
    {
     "name": "stdout",
     "output_type": "stream",
     "text": [
      "Split file completed on input\n"
     ]
    }
   ],
   "source": [
    "# split super large file\n",
    "# if time of the file > 30 min, split it inside the folder into 20 min each\n",
    "\n",
    "from moviepy.editor import VideoFileClip\n",
    "\n",
    "current_directory = os.getcwd()\n",
    "for filename in os.listdir(input_folder):\n",
    "    in_file_path = os.path.join(input_folder, filename)\n",
    "    if os.path.isfile(in_file_path) and in_file_path.endswith(\".mp4\"):\n",
    "        if VideoFileClip(in_file_path).duration > 1200:\n",
    "            audio_file = f\"{in_file_path.strip('.mp4')}.wav\"\n",
    "            os.system(f\"ffmpeg -i {in_file_path} -vn -acodec pcm_s16le -ar 16000 -ac 1 {audio_file}\")\n",
    "            os.system(f'rm -rf {in_file_path}')\n",
    "            duration = librosa.get_duration(filename=audio_file)\n",
    "            for i in range(0, int(duration), 1200):\n",
    "                print(\"inside loop\")\n",
    "                split_file = f\"{audio_file.strip('.wav')}_split_{i}.wav\"\n",
    "                os.system(f\"ffmpeg -i {audio_file} -ss {i} -t 1200 {split_file}\")\n",
    "            os.system(f'rm -rf {audio_file}')\n",
    "clear_output()\n",
    "print(f\"Split file completed on {input_folder}\")           \n",
    "        "
   ]
  },
  {
   "cell_type": "code",
   "execution_count": 5,
   "metadata": {
    "scrolled": true,
    "tags": []
   },
   "outputs": [
    {
     "name": "stdout",
     "output_type": "stream",
     "text": [
      "All transcription completed\n"
     ]
    }
   ],
   "source": [
    "# folder transcription\n",
    "\n",
    "for filename in os.listdir(input_folder):\n",
    "    in_file_path = os.path.join(input_folder, filename)\n",
    "    out_file_path = os.path.join(output_folder, f\"{filename.strip('.mp4').strip('.wav')}.txt\")\n",
    "    if os.path.isfile(in_file_path):\n",
    "        print(f\"{in_file_path} is processing\")\n",
    "        convert_video_to_text(in_file_path, out_file_path, output_format, time_flag)\n",
    "\n",
    "clear_output()\n",
    "print(\"All transcription completed\")\n",
    "torch.cuda.empty_cache()"
   ]
  },
  {
   "cell_type": "markdown",
   "metadata": {
    "tags": []
   },
   "source": [
    "### <h2> 4. Merge up file tools"
   ]
  },
  {
   "cell_type": "code",
   "execution_count": null,
   "metadata": {},
   "outputs": [],
   "source": [
    "# This is optional code block for merging split file previously made\n",
    "# Not for small file < 20 min that does not require a split"
   ]
  },
  {
   "cell_type": "code",
   "execution_count": 32,
   "metadata": {},
   "outputs": [],
   "source": [
    "import os\n",
    "import re\n",
    "from collections import defaultdict\n",
    "folder_path = output_folder\n",
    "\n",
    "# Acquire all files inside the folder using list comprehension\n",
    "files = [os.path.join(folder_path, file) for file in os.listdir(folder_path) if os.path.isfile(os.path.join(folder_path, file))]\n",
    "\n",
    "# for i in files:\n",
    "#     print(i)\n",
    "# print(\"end of file dir\")\n",
    "\n",
    "\n",
    "def copy_files(file_list, output_file):\n",
    "    with open(output_file, 'w') as output:\n",
    "        for file_name in file_list:\n",
    "            with open(file_name, 'r') as file:\n",
    "                output.write(file.read())\n",
    "                output.write('\\n')  # Add a newline between file contents\n",
    "\n",
    "exp = \"(?P<name>.*?)_split_(?P<session>.*?).txt\"\n",
    "pattern = re.compile(exp)\n",
    "dict = defaultdict(list)\n",
    "\n",
    "# Print the list of files\n",
    "for file in files:\n",
    "    result = re.search(pattern, file)\n",
    "    if result:\n",
    "        dict[result.group(\"name\")].append(result.group(\"session\"))\n",
    "\n",
    "for name, session in dict.items():\n",
    "    # print(f\"{name}: {sorted(session)}\")\n",
    "    newFileName = f\"{name}_merged\"\n",
    "    originalFileName = [name+\"_split_\"+i+\".txt\" for i in sorted(session)]\n",
    "    copy_files(originalFileName,newFileName)\n",
    "    for file in originalFileName:\n",
    "        os.remove(file)"
   ]
  },
  {
   "cell_type": "markdown",
   "metadata": {
    "jp-MarkdownHeadingCollapsed": true,
    "tags": []
   },
   "source": [
    "### <h2> 5. file run"
   ]
  },
  {
   "cell_type": "code",
   "execution_count": null,
   "metadata": {},
   "outputs": [],
   "source": [
    "# using re to merge files"
   ]
  },
  {
   "cell_type": "code",
   "execution_count": null,
   "metadata": {
    "tags": []
   },
   "outputs": [],
   "source": [
    "# Control block for single file\n",
    "\n",
    "# Input file location\n",
    "input_file = \"input/input.mp4\"\n",
    "\n",
    "# Output file location\n",
    "output_file = \"output/output.txt\"\n",
    "\n",
    "# Choose output format\n",
    "output_format = \"text\" \n",
    "\n",
    "# Choose whether output timestamp\n",
    "time_flag = True"
   ]
  },
  {
   "cell_type": "code",
   "execution_count": null,
   "metadata": {
    "scrolled": true,
    "tags": []
   },
   "outputs": [
    {
     "name": "stdout",
     "output_type": "stream",
     "text": [
      "All transcription completed\n"
     ]
    }
   ],
   "source": [
    "# single file transcription\n",
    "convert_video_to_text(input_file, output_file, output_format, time_flag)\n",
    "clear_output()\n",
    "print(\"All transcription completed\")"
   ]
  },
  {
   "cell_type": "markdown",
   "metadata": {
    "tags": []
   },
   "source": [
    "### <h2> 6. Option: Remove file and resources"
   ]
  },
  {
   "cell_type": "code",
   "execution_count": null,
   "metadata": {},
   "outputs": [],
   "source": []
  },
  {
   "cell_type": "code",
   "execution_count": 36,
   "metadata": {
    "tags": []
   },
   "outputs": [],
   "source": [
    "! rm -rf *.wav"
   ]
  },
  {
   "cell_type": "code",
   "execution_count": 37,
   "metadata": {
    "tags": []
   },
   "outputs": [],
   "source": [
    "! rm -rf input/*.mp4"
   ]
  },
  {
   "cell_type": "code",
   "execution_count": 40,
   "metadata": {},
   "outputs": [],
   "source": [
    "! rm -rf input/*"
   ]
  },
  {
   "cell_type": "code",
   "execution_count": 41,
   "metadata": {},
   "outputs": [],
   "source": [
    "! rm -rf output/*"
   ]
  },
  {
   "cell_type": "markdown",
   "metadata": {
    "tags": []
   },
   "source": [
    "### <h2> 7. Option: Summarization single file"
   ]
  },
  {
   "cell_type": "code",
   "execution_count": 43,
   "metadata": {
    "tags": []
   },
   "outputs": [],
   "source": [
    "fileToBeSum = \"output\" #file to summarize"
   ]
  },
  {
   "cell_type": "code",
   "execution_count": 45,
   "metadata": {
    "tags": []
   },
   "outputs": [
    {
     "name": "stderr",
     "output_type": "stream",
     "text": [
      "2023-08-06 23:50:13,414 - modelscope - INFO - Model revision not specified, use the latest revision: v1.0.0\n",
      "2023-08-06 23:50:13,869 - modelscope - INFO - initiate model from /home/lwsze/.cache/modelscope/hub/damo/nlp_ponet_extractive-summarization_topic-level_chinese-base\n",
      "2023-08-06 23:50:13,869 - modelscope - INFO - initiate model from location /home/lwsze/.cache/modelscope/hub/damo/nlp_ponet_extractive-summarization_topic-level_chinese-base.\n",
      "2023-08-06 23:50:13,872 - modelscope - INFO - initialize model from /home/lwsze/.cache/modelscope/hub/damo/nlp_ponet_extractive-summarization_topic-level_chinese-base\n",
      "You are using a model of type bert to instantiate a model of type ponet. This is not supported for all configurations of models and can yield errors.\n",
      "2023-08-06 23:50:21,448 - modelscope - WARNING - No preprocessor field found in cfg.\n",
      "2023-08-06 23:50:21,449 - modelscope - WARNING - No val key and type key found in preprocessor domain of configuration.json file.\n",
      "2023-08-06 23:50:21,449 - modelscope - WARNING - Cannot find available config to build preprocessor at mode inference, current config: {'model_dir': '/home/lwsze/.cache/modelscope/hub/damo/nlp_ponet_extractive-summarization_topic-level_chinese-base'}. trying to build by task and model information.\n",
      "2023-08-06 23:50:21,450 - modelscope - WARNING - No preprocessor key ('ponet-for-document-segmentation', 'extractive-summarization') found in PREPROCESSOR_MAP, skip building preprocessor.\n"
     ]
    },
    {
     "name": "stdout",
     "output_type": "stream",
     "text": [
      "模型输入为Fbank特征，输出为基于char建模的中文全集token预测，测试工具根据每一帧的预测数据进行后处理得到输入音频的实时检测结果。\n",
      "模型训练采用“basetrain + finetune”的模式，basetrain过程使用大量内部移动端数据，在此基础上，使用1万条设备端录制安静场景“小云小云”数据进行微调，得到最终面向业务的模型。\n"
     ]
    }
   ],
   "source": [
    "from modelscope.outputs import OutputKeys\n",
    "from modelscope.pipelines import pipeline\n",
    "from modelscope.utils.constant import Tasks\n",
    "\n",
    "p = pipeline(\n",
    "    task=Tasks.extractive_summarization,\n",
    "    model='damo/nlp_ponet_extractive-summarization_topic-level_chinese-base')\n",
    "\n",
    "result = p(documents='移动端语音唤醒模型，检测关键词为“小云小云”。模型主体为4层FSMN结构，使用CTC训练准则，参数量750K，适用于移动端设备运行。模型输入为Fbank特征，输出为基于char建模的中文全集token预测，测试工具根据每一帧的预测数据进行后处理得到输入音频的实时检测结果。模型训练采用“basetrain + finetune”的模式，basetrain过程使用大量内部移动端数据，在此基础上，使用1万条设备端录制安静场景“小云小云”数据进行微调，得到最终面向业务的模型。后续用户可在basetrain模型基础上，使用其他关键词数据进行微调，得到新的语音唤醒模型，但暂时未开放模型finetune功能。')\n",
    "\n",
    "print(result[OutputKeys.TEXT])"
   ]
  },
  {
   "cell_type": "markdown",
   "metadata": {
    "tags": []
   },
   "source": [
    "### <h2> 8. Option: Summarization Multiple file"
   ]
  },
  {
   "cell_type": "code",
   "execution_count": null,
   "metadata": {},
   "outputs": [],
   "source": []
  }
 ],
 "metadata": {
  "kernelspec": {
   "display_name": "Python 3 (ipykernel)",
   "language": "python",
   "name": "python3"
  },
  "language_info": {
   "codemirror_mode": {
    "name": "ipython",
    "version": 3
   },
   "file_extension": ".py",
   "mimetype": "text/x-python",
   "name": "python",
   "nbconvert_exporter": "python",
   "pygments_lexer": "ipython3",
   "version": "3.8.16"
  },
  "toc-autonumbering": false
 },
 "nbformat": 4,
 "nbformat_minor": 4
}
